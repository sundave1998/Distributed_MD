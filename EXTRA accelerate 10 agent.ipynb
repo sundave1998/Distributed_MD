{
 "cells": [
  {
   "cell_type": "code",
   "execution_count": 1,
   "metadata": {},
   "outputs": [],
   "source": [
    "# we consider a least square problem, f(x) = (Ax-b)^2\n",
    "import numpy as np\n",
    "import numpy.linalg as la\n",
    "from scipy.stats import ortho_group\n",
    "import matplotlib.pyplot as plt\n",
    "from tqdm.notebook import tqdm\n",
    "from math import sqrt\n",
    "\n",
    "\n",
    "import warnings\n",
    "warnings.filterwarnings(\"error\")"
   ]
  },
  {
   "cell_type": "code",
   "execution_count": 2,
   "metadata": {},
   "outputs": [
    {
     "name": "stdout",
     "output_type": "stream",
     "text": [
      "150\n"
     ]
    }
   ],
   "source": [
    "np.random.seed(seed=42)\n",
    "agent_num = 10\n",
    "\n",
    "d=1000\n",
    "data_num = 200\n",
    "x_opt = np.random.rand(d)\n",
    "x_local_opt = np.tile(x_opt,(agent_num, 1))\n",
    "x_local_opt = x_local_opt+ 0.1* np.random.rand(agent_num, d)\n",
    "# print(x_local_opt[:,0])\n",
    "# P = ortho_group.rvs(d)\n",
    "A = np.zeros((agent_num, data_num, d))\n",
    "b = np.zeros((agent_num, data_num))\n",
    "\n",
    "for i in range(agent_num):\n",
    "    P = ortho_group.rvs(d)\n",
    "    eigv = (np.random.rand(d))\n",
    "    eigv[0:50] = np.zeros(50)\n",
    "    A_temp = np.matmul( np.diag(eigv), P)\n",
    "    A[i] = A_temp[0:data_num,:]\n",
    "# A = np.matmul(np.transpose(P), np.matmul( np.diag(eigv), P))\n",
    "# x_opt = np.random.rand(d)\n",
    "    b[i] = np.matmul( A[i], x_local_opt[i])\n",
    "    \n",
    "    \n",
    "# filename = \"d_1000_n_10\"\n",
    "# np.save(filename+\"_A\", A)\n",
    "# np.save(filename+\"_b\", b)\n",
    "# np.save(filename+\"_x\", x_opt)\n",
    "print(np.linalg.matrix_rank(np.matmul(np.transpose(A[1]), A[1])))\n"
   ]
  },
  {
   "cell_type": "code",
   "execution_count": 3,
   "metadata": {},
   "outputs": [
    {
     "name": "stdout",
     "output_type": "stream",
     "text": [
      "0.4728918018918043\n"
     ]
    }
   ],
   "source": [
    "# gamma = np.load(\"gamma.npy\")\n",
    "\n",
    "# # we first try to calculate the real optimal x_star\n",
    "A_stack = np.reshape(A, (2000,1000))\n",
    "b_stack = np.reshape(b, (2000))\n",
    "\n",
    "pinv_A = np.linalg.pinv(A_stack)\n",
    "x_direct = np.matmul(pinv_A, b_stack)\n",
    "print(x_direct[0])\n",
    "error = np.matmul(A_stack, x_direct)-b_stack\n",
    "loss_star = np.matmul(np.transpose(error), error)\n"
   ]
  },
  {
   "cell_type": "code",
   "execution_count": 4,
   "metadata": {},
   "outputs": [
    {
     "name": "stdout",
     "output_type": "stream",
     "text": [
      "[[0.9  0.05 0.   0.   0.   0.   0.   0.   0.   0.05]\n",
      " [0.05 0.9  0.05 0.   0.   0.   0.   0.   0.   0.  ]\n",
      " [0.   0.05 0.9  0.05 0.   0.   0.   0.   0.   0.  ]\n",
      " [0.   0.   0.05 0.9  0.05 0.   0.   0.   0.   0.  ]\n",
      " [0.   0.   0.   0.05 0.9  0.05 0.   0.   0.   0.  ]\n",
      " [0.   0.   0.   0.   0.05 0.9  0.05 0.   0.   0.  ]\n",
      " [0.   0.   0.   0.   0.   0.05 0.9  0.05 0.   0.  ]\n",
      " [0.   0.   0.   0.   0.   0.   0.05 0.9  0.05 0.  ]\n",
      " [0.   0.   0.   0.   0.   0.   0.   0.05 0.9  0.05]\n",
      " [0.05 0.   0.   0.   0.   0.   0.   0.   0.05 0.9 ]]\n",
      "10\n",
      "[0.8       0.8190983 0.8690983 0.9309017 1.        0.9809017 0.9809017\n",
      " 0.9309017 0.8190983 0.8690983]\n"
     ]
    }
   ],
   "source": [
    "agent_num = 10\n",
    "rho = 1\n",
    "P = np.zeros((10,10))\n",
    "beta = 0.1\n",
    "\n",
    "for i in range(10):\n",
    "    for j in range(10):\n",
    "        if i == j:\n",
    "            P[i,j] = 1 - beta\n",
    "        if np.abs(i-j) == 1:\n",
    "#         if np.abs(i-j) == 1 or np.abs(i-j) == 2:\n",
    "            P[i, j] = beta/2\n",
    "        if (10 - np.abs(i-j)) == 1 :\n",
    "#         if (10 - np.abs(i-j)) == 1 or (10 - np.abs(i-j)) == 2:\n",
    "            P[i, j] = beta/2\n",
    "            \n",
    "\n",
    "print(P)\n",
    "P_tilde = (P+np.eye(agent_num))/2\n",
    "# print(P_tilde)\n",
    "# x_0 = np.random.rand( d)\n",
    "x_0 = np.random.rand(agent_num, d)\n",
    "\n",
    "print(np.linalg.matrix_rank(P))\n",
    "ev = la.eigvals(P)\n",
    "print(ev)"
   ]
  },
  {
   "cell_type": "code",
   "execution_count": 40,
   "metadata": {},
   "outputs": [
    {
     "data": {
      "application/vnd.jupyter.widget-view+json": {
       "model_id": "e2fdc11202a041399d8026a545469fbf",
       "version_major": 2,
       "version_minor": 0
      },
      "text/plain": [
       "HBox(children=(FloatProgress(value=0.0, max=5000000.0), HTML(value='')))"
      ]
     },
     "metadata": {},
     "output_type": "display_data"
    },
    {
     "name": "stdout",
     "output_type": "stream",
     "text": [
      "\n"
     ]
    }
   ],
   "source": [
    "#first is gradient Descent\n",
    "iter_num = 5000000\n",
    "lr = 0.1\n",
    "time_int = 0.1\n",
    "\n",
    "x_k = np.zeros((agent_num,d))\n",
    "x_k1 = np.zeros((agent_num,d))\n",
    "# x_k2 = np.zeros((agent_num,d))\n",
    "y_k = np.zeros((agent_num,d))\n",
    "y_k1 = np.zeros((agent_num,d))\n",
    "# y_k2 = np.zeros((agent_num,d))\n",
    "# x_accumulate = np.zeros((agent_num,d))\n",
    "# y_accumulate = np.zeros((agent_num,d))\n",
    "\n",
    "\n",
    "z = np.zeros(d)\n",
    "loss_z = np.zeros((iter_num))\n",
    "loss_x_global = np.zeros((agent_num, iter_num))\n",
    "# accu_x_record = np.zeros((iter_num))\n",
    "# accu_y_record = np.zeros((iter_num))\n",
    "x_record = np.zeros((iter_num))\n",
    "loss = np.zeros((agent_num, iter_num))\n",
    "\n",
    "z = np.mean(x_0, axis = 0)\n",
    "# for i in  range(agent_num):\n",
    "\n",
    "#     x_k[i] = np.copy(x_0)\n",
    "x_k = np.copy(x_0)\n",
    "# y_k = np.zeros(np.shape(x_0))\n",
    "# y_k = x_0\n",
    "# Calculate the first step as normal gradient\n",
    "# for i in  range(agent_num):\n",
    "#     local_x_average = np.matmul(np.expand_dims(P[i,:], axis=0), x_k ) \n",
    "#     gradient = np.matmul(np.transpose(A[i]), (np.matmul(A[i], x_k[i,:])-b[i]))\n",
    "#     x_k1[i] = local_x_average - lr * gradient\n",
    "#     loss[i,0] = la.norm(np.matmul(A[i], x_k[i,:])-b[i])*la.norm(np.matmul(A[i], x_k[i,:])-b[i])\n",
    "# # y_k1 = np.copy(x_k1)\n",
    "# # y_k = np.copy(x_k)\n",
    "\n",
    "for k in tqdm(range( iter_num)):\n",
    "    for i in range(agent_num):\n",
    "\n",
    "        gradient_k1 = np.matmul(np.transpose(A[i]), (np.matmul(A[i], x_k[i,:])-b[i]))\n",
    "        y_k1[i,:] = y_k[i,:] + time_int*(x_k[(i+1)%agent_num,:]+x_k[(i-1)%agent_num,:] - 2*x_k[i,:])\n",
    "        x_k1[i,:] = x_k[i,:] - time_int*(lr*gradient_k1 - y_k[i,:] - (x_k[(i+1)%agent_num,:]+x_k[(i-1)%agent_num,:] - 2*x_k[i,:]))\n",
    "\n",
    "\n",
    "        error = np.matmul(A[i], x_k1[i,:])-b[i]\n",
    "        loss[i, k] = np.matmul(np.transpose(error), error)\n",
    "    x_k = np.copy(x_k1)\n",
    "#     x_k1 = np.copy(x_k2)\n",
    "    y_k = np.copy(y_k1)\n",
    "#     y_k1 = np.copy(y_k2)\n",
    "\n",
    "    z = np.mean(x_k, axis = 0)\n",
    "#     print(z[0])\n",
    "#     for i in range(agent_num):\n",
    "    error = np.matmul(A_stack, z)-b_stack\n",
    "    loss_z[k] = np.matmul(np.transpose(error), error)\n",
    "    x_record[k] = x_k[0,0]-x_direct[0]\n",
    "    for i in range(agent_num):\n",
    "        error = np.matmul(A_stack, x_k[i,:])-b_stack\n",
    "        loss_x_global[i,k] = np.matmul(np.transpose(error), error)\n",
    "\n",
    "    "
   ]
  },
  {
   "cell_type": "code",
   "execution_count": 41,
   "metadata": {},
   "outputs": [
    {
     "data": {
      "text/plain": [
       "Text(0.5, 0, 'x_accu value')"
      ]
     },
     "execution_count": 41,
     "metadata": {},
     "output_type": "execute_result"
    },
    {
     "data": {
      "image/png": "[encoded data removed]",
      "text/plain": [
       "<Figure size 432x288 with 1 Axes>"
      ]
     },
     "metadata": {
      "needs_background": "light"
     },
     "output_type": "display_data"
    }
   ],
   "source": [
    "plt.plot(x_record)\n",
    "# plt.scatter(accu_x_record[1:])\n",
    "# plt.plot(gamma[1:20000])\n",
    "y_range = 1e2\n",
    "# plt.ylim((-y_range,y_range))\n",
    "# print(accu_x_record[-1])\n",
    "plt.xlabel(\"x_accu value\")\n",
    "# plt.savefig(\"non_accel_EXTRA x_accu 5m_it over_k\")\n",
    "# print(gamma[100000])"
   ]
  },
  {
   "cell_type": "code",
   "execution_count": 44,
   "metadata": {},
   "outputs": [
    {
     "name": "stdout",
     "output_type": "stream",
     "text": [
      "-33451329624.651375\n"
     ]
    },
    {
     "data": {
      "text/plain": [
       "Text(0.5, 0, 'local x value')"
      ]
     },
     "execution_count": 44,
     "metadata": {},
     "output_type": "execute_result"
    },
    {
     "data": {
      "image/png": "[encoded data removed]",
      "text/plain": [
       "<Figure size 432x288 with 1 Axes>"
      ]
     },
     "metadata": {
      "needs_background": "light"
     },
     "output_type": "display_data"
    }
   ],
   "source": [
    "# plt.plot(x_record[1000000:])\n",
    "# plt.plot(gamma[1:20000])\n",
    "# plt.ylim((-5e10,5000000))\n",
    "print(x_record[-1])\n",
    "plt.xlabel(\"local x value\")\n",
    "\n",
    "# plt.savefig(\"non_accel_EXTRA x_record 5m_it over_k\")"
   ]
  },
  {
   "cell_type": "code",
   "execution_count": 1,
   "metadata": {},
   "outputs": [
    {
     "ename": "NameError",
     "evalue": "name 'plt' is not defined",
     "output_type": "error",
     "traceback": [
      "\u001b[0;31m---------------------------------------------------------------------------\u001b[0m",
      "\u001b[0;31mNameError\u001b[0m                                 Traceback (most recent call last)",
      "\u001b[0;32m<ipython-input-1-78bc96f3f8f8>\u001b[0m in \u001b[0;36m<module>\u001b[0;34m\u001b[0m\n\u001b[1;32m      1\u001b[0m \u001b[0;31m# loss_z_k2 = (loss_z-loss_star)*range(iter_num)*range(iter_num)\u001b[0m\u001b[0;34m\u001b[0m\u001b[0;34m\u001b[0m\u001b[0;34m\u001b[0m\u001b[0m\n\u001b[1;32m      2\u001b[0m \u001b[0;31m# loss_z_k1 = (loss_z-loss_star)*range(iter_num)\u001b[0m\u001b[0;34m\u001b[0m\u001b[0;34m\u001b[0m\u001b[0;34m\u001b[0m\u001b[0m\n\u001b[0;32m----> 3\u001b[0;31m \u001b[0mplt\u001b[0m\u001b[0;34m.\u001b[0m\u001b[0mplot\u001b[0m\u001b[0;34m(\u001b[0m\u001b[0mloss_x_global\u001b[0m\u001b[0;34m[\u001b[0m\u001b[0;34m:\u001b[0m\u001b[0;36m20000\u001b[0m\u001b[0;34m]\u001b[0m\u001b[0;34m)\u001b[0m\u001b[0;34m\u001b[0m\u001b[0;34m\u001b[0m\u001b[0m\n\u001b[0m\u001b[1;32m      4\u001b[0m \u001b[0;31m# plt.ylim((-0.01,0.5))\u001b[0m\u001b[0;34m\u001b[0m\u001b[0;34m\u001b[0m\u001b[0;34m\u001b[0m\u001b[0m\n\u001b[1;32m      5\u001b[0m \u001b[0;31m# print(loss_z_k2[1:].min())\u001b[0m\u001b[0;34m\u001b[0m\u001b[0;34m\u001b[0m\u001b[0;34m\u001b[0m\u001b[0m\n",
      "\u001b[0;31mNameError\u001b[0m: name 'plt' is not defined"
     ]
    }
   ],
   "source": [
    "# loss_z_k2 = (loss_z-loss_star)*range(iter_num)*range(iter_num)\n",
    "# loss_z_k1 = (loss_z-loss_star)*range(iter_num)\n",
    "plt.plot(loss_x_global[:20000])\n",
    "# plt.ylim((-0.01,0.5))\n",
    "# print(loss_z_k2[1:].min())\n",
    "# print((loss_z*range(iter_num))[-1])\n",
    "# plt.xlabel(\"(loss-loss*)xk^2\")\n",
    "# plt.savefig(\"non_accel_EXTRA (loss-loss_star)k 5m_it over_k\")\n",
    "\n",
    "# plt.savefig(\"EXTRA(loss-loss_star)k^2\")"
   ]
  },
  {
   "cell_type": "code",
   "execution_count": 48,
   "metadata": {},
   "outputs": [
    {
     "name": "stdout",
     "output_type": "stream",
     "text": [
      "-1.1796119636642288e-16\n"
     ]
    },
    {
     "data": {
      "text/plain": [
       "Text(0.5, 15.0, '(loss-loss*)xk^2')"
      ]
     },
     "execution_count": 48,
     "metadata": {},
     "output_type": "execute_result"
    },
    {
     "data": {
      "image/png": "[encoded data removed]",
      "text/plain": [
       "<Figure size 432x288 with 1 Axes>"
      ]
     },
     "metadata": {
      "needs_background": "light"
     },
     "output_type": "display_data"
    }
   ],
   "source": [
    "for i in range(agent_num):\n",
    "    \n",
    "#     loss_x_k2 = (loss_x_global[i,:]-loss_star)*range(iter_num)*range(iter_num)\n",
    "    loss_x_k2 = (loss_x_global[i,:]-loss_star)\n",
    "#     loss_x_k2 = (loss_x_global[i,:])*range(iter_num)*range(iter_num)\n",
    "#     loss_x_k2 = (loss_x_global[i,:]-loss_star)*range(iter_num)\n",
    "    plt.plot(np.log(loss_x_k2[1:]))\n",
    "# loss_x2_k2 = (loss[1,:]-loss_star)*range(iter_num)*range(iter_num)\n",
    "plt.savefig(\"log(local_loss-loss_star)\")\n",
    "\n",
    "# plt.plot(loss_x2_k2[1:])\n",
    "# plt.ylim((0,1))\n",
    "print(loss_x_k2[1:].min())\n",
    "# print(loss_z*range(30000)[-1])\n",
    "plt.xlabel(\"(loss-loss*)xk^2\")\n"
   ]
  },
  {
   "cell_type": "code",
   "execution_count": 6,
   "metadata": {},
   "outputs": [
    {
     "name": "stdout",
     "output_type": "stream",
     "text": [
      "9\n"
     ]
    }
   ],
   "source": [
    "print(-1 % 10)"
   ]
  },
  {
   "cell_type": "code",
   "execution_count": null,
   "metadata": {},
   "outputs": [],
   "source": []
  }
 ],
 "metadata": {
  "kernelspec": {
   "display_name": "Python 3",
   "language": "python",
   "name": "python3"
  },
  "language_info": {
   "codemirror_mode": {
    "name": "ipython",
    "version": 3
   },
   "file_extension": ".py",
   "mimetype": "text/x-python",
   "name": "python",
   "nbconvert_exporter": "python",
   "pygments_lexer": "ipython3",
   "version": "3.7.3"
  }
 },
 "nbformat": 4,
 "nbformat_minor": 4
}
