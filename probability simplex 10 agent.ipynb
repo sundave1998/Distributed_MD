{
 "cells": [
  {
   "cell_type": "code",
   "execution_count": 1,
   "metadata": {},
   "outputs": [],
   "source": [
    "# we consider a least square problem, f(x) = (Ax-b)^2\n",
    "import numpy as np\n",
    "import numpy.linalg as la\n",
    "from scipy.stats import ortho_group\n",
    "import matplotlib.pyplot as plt\n",
    "from tqdm.notebook import tqdm\n",
    "from math import sqrt\n",
    "\n",
    "\n",
    "import warnings\n",
    "warnings.filterwarnings(\"error\")"
   ]
  },
  {
   "cell_type": "code",
   "execution_count": 44,
   "metadata": {},
   "outputs": [
    {
     "name": "stdout",
     "output_type": "stream",
     "text": [
      "150\n"
     ]
    }
   ],
   "source": [
    "np.random.seed(seed=42)\n",
    "agent_num = 10\n",
    "\n",
    "d=1000\n",
    "data_num = 200\n",
    "x_opt = np.ones((d))/d\n",
    "# x_opt = np.random.rand(d)/d\n",
    "x_local_opt = np.tile(x_opt,(agent_num, 1))\n",
    "x_local_opt = x_local_opt+ 0.1* np.random.rand(agent_num, d)/d\n",
    "# print(x_local_opt[:,0])\n",
    "# P = ortho_group.rvs(d)\n",
    "A = np.zeros((agent_num, data_num, d))\n",
    "b = np.zeros((agent_num, data_num))\n",
    "\n",
    "for i in range(agent_num):\n",
    "    P = ortho_group.rvs(d)\n",
    "    eigv = (np.random.rand(d))\n",
    "    eigv[0:50] = np.zeros(50)\n",
    "    A_temp = np.matmul( np.diag(eigv), P)\n",
    "    A[i] = A_temp[0:data_num,:]\n",
    "# A = np.matmul(np.transpose(P), np.matmul( np.diag(eigv), P))\n",
    "# x_opt = np.random.rand(d)\n",
    "    b[i] = np.matmul( A[i], x_local_opt[i])\n",
    "    \n",
    "    \n",
    "# filename = \"d_1000_n_10\"\n",
    "# np.save(filename+\"_A\", A)\n",
    "# np.save(filename+\"_b\", b)\n",
    "# np.save(filename+\"_x\", x_opt)\n",
    "print(np.linalg.matrix_rank(np.matmul(np.transpose(A[1]), A[1])))\n"
   ]
  },
  {
   "cell_type": "code",
   "execution_count": 64,
   "metadata": {},
   "outputs": [
    {
     "name": "stdout",
     "output_type": "stream",
     "text": [
      "0.0009105341953499473\n"
     ]
    },
    {
     "data": {
      "text/plain": [
       "[<matplotlib.lines.Line2D at 0x7ff3385a8b00>]"
      ]
     },
     "execution_count": 64,
     "metadata": {},
     "output_type": "execute_result"
    },
    {
     "data": {
      "image/png": "[encoded data removed]",
      "text/plain": [
       "<Figure size 432x288 with 1 Axes>"
      ]
     },
     "metadata": {
      "needs_background": "light"
     },
     "output_type": "display_data"
    }
   ],
   "source": [
    "# gamma = np.load(\"gamma.npy\")\n",
    "\n",
    "# # we first try to calculate the real optimal x_star\n",
    "A_stack = np.reshape(A, (2000,1000))\n",
    "b_stack = np.reshape(b, (2000))\n",
    "\n",
    "\n",
    "C = np.zeros((d,d-1))\n",
    "for i in range(d-1):\n",
    "    C[i,i] = 1\n",
    "C[d-1,:]=-1\n",
    "# print(C)\n",
    "A_prime = np.matmul(A_stack, C)\n",
    "\n",
    "c_vector = np.zeros((d))\n",
    "c_vector[-1]=1\n",
    "# print(c_vector)\n",
    "b_prime = b_stack - np.matmul(A_stack, c_vector)\n",
    "\n",
    "\n",
    "pinv_A = np.linalg.pinv(A_prime)\n",
    "x_temp = np.matmul(pinv_A, b_prime)\n",
    "x_direct = np.zeros((d))\n",
    "x_direct[:d-1] = x_temp\n",
    "x_direct[d-1] = 1 - np.sum(x_temp)\n",
    "print(x_direct[0])\n",
    "error = np.matmul(A_stack, x_direct)-b_stack\n",
    "loss_star = np.matmul(np.transpose(error), error)\n",
    "plt.plot(x_direct)\n",
    "# print(np.sum(loss_star))"
   ]
  },
  {
   "cell_type": "code",
   "execution_count": 65,
   "metadata": {},
   "outputs": [
    {
     "name": "stdout",
     "output_type": "stream",
     "text": [
      "[[0.9  0.05 0.   0.   0.   0.   0.   0.   0.   0.05]\n",
      " [0.05 0.9  0.05 0.   0.   0.   0.   0.   0.   0.  ]\n",
      " [0.   0.05 0.9  0.05 0.   0.   0.   0.   0.   0.  ]\n",
      " [0.   0.   0.05 0.9  0.05 0.   0.   0.   0.   0.  ]\n",
      " [0.   0.   0.   0.05 0.9  0.05 0.   0.   0.   0.  ]\n",
      " [0.   0.   0.   0.   0.05 0.9  0.05 0.   0.   0.  ]\n",
      " [0.   0.   0.   0.   0.   0.05 0.9  0.05 0.   0.  ]\n",
      " [0.   0.   0.   0.   0.   0.   0.05 0.9  0.05 0.  ]\n",
      " [0.   0.   0.   0.   0.   0.   0.   0.05 0.9  0.05]\n",
      " [0.05 0.   0.   0.   0.   0.   0.   0.   0.05 0.9 ]]\n",
      "10\n",
      "[0.8       0.8190983 0.8690983 0.9309017 1.        0.9809017 0.9809017\n",
      " 0.9309017 0.8190983 0.8690983]\n"
     ]
    }
   ],
   "source": [
    "agent_num = 10\n",
    "rho = 1\n",
    "P = np.zeros((10,10))\n",
    "beta = 0.1\n",
    "\n",
    "for i in range(10):\n",
    "    for j in range(10):\n",
    "        if i == j:\n",
    "            P[i,j] = 1 - beta\n",
    "        if np.abs(i-j) == 1:\n",
    "#         if np.abs(i-j) == 1 or np.abs(i-j) == 2:\n",
    "            P[i, j] = beta/2\n",
    "        if (10 - np.abs(i-j)) == 1 :\n",
    "#         if (10 - np.abs(i-j)) == 1 or (10 - np.abs(i-j)) == 2:\n",
    "            P[i, j] = beta/2\n",
    "            \n",
    "\n",
    "print(P)\n",
    "P_tilde = (P+np.eye(agent_num))/2\n",
    "# print(P_tilde)\n",
    "# x_0 = np.random.rand( d)\n",
    "x_0 = np.ones((agent_num, d))/d\n",
    "# x_0 = np.random.rand(agent_num, d)\n",
    "\n",
    "print(np.linalg.matrix_rank(P))\n",
    "ev = la.eigvals(P)\n",
    "print(ev)"
   ]
  },
  {
   "cell_type": "code",
   "execution_count": 70,
   "metadata": {},
   "outputs": [
    {
     "data": {
      "application/vnd.jupyter.widget-view+json": {
       "model_id": "8334be0ddb2f431aa351562600923c62",
       "version_major": 2,
       "version_minor": 0
      },
      "text/plain": [
       "HBox(children=(FloatProgress(value=0.0, max=100000.0), HTML(value='')))"
      ]
     },
     "metadata": {},
     "output_type": "display_data"
    },
    {
     "name": "stdout",
     "output_type": "stream",
     "text": [
      "\n"
     ]
    }
   ],
   "source": [
    "#first is gradient Descent\n",
    "iter_num = 100000\n",
    "lr = 50\n",
    "time_int = 1\n",
    "\n",
    "x_k = np.zeros((agent_num,d))\n",
    "x_k1 = np.zeros((agent_num,d))\n",
    "\n",
    "z_k = np.zeros((agent_num,d))\n",
    "z_k1 = np.zeros((agent_num,d))\n",
    "# x_k2 = np.zeros((agent_num,d))\n",
    "y_k = np.zeros((agent_num,d))\n",
    "y_k1 = np.zeros((agent_num,d))\n",
    "# y_k2 = np.zeros((agent_num,d))\n",
    "# x_accumulate = np.zeros((agent_num,d))\n",
    "# y_accumulate = np.zeros((agent_num,d))\n",
    "\n",
    "\n",
    "# z = np.zeros(d)\n",
    "# loss_z = np.zeros((iter_num))\n",
    "loss_x_global = np.zeros((agent_num, iter_num))\n",
    "# accu_x_record = np.zeros((iter_num))\n",
    "# accu_y_record = np.zeros((iter_num))\n",
    "x_record = np.zeros((iter_num))\n",
    "loss = np.zeros((agent_num, iter_num))\n",
    "\n",
    "# z = np.mean(x_0, axis = 0)\n",
    "# for i in  range(agent_num):\n",
    "\n",
    "#     x_k[i] = np.copy(x_0)\n",
    "x_k = np.copy(x_0)\n",
    "\n",
    "# \n",
    "# z_k =  np.copy(x_k)\n",
    "\n",
    "z_k =  np.log(x_k)+1\n",
    "# \n",
    "for k in tqdm(range( iter_num)):\n",
    "    for i in range(agent_num):\n",
    "\n",
    "        gradient_k1 = np.matmul(np.transpose(A[i]), (np.matmul(A[i], x_k[i,:])-b[i]))\n",
    "        y_k1[i,:] = y_k[i,:] + time_int*(x_k[(i+1)%agent_num,:]+x_k[(i-1)%agent_num,:] - 2*x_k[i,:])\n",
    "        z_k1[i,:] = z_k[i,:] - time_int*(lr*gradient_k1 - y_k[i,:] - (x_k[(i+1)%agent_num,:]+x_k[(i-1)%agent_num,:] - 2*x_k[i,:]))\n",
    "\n",
    "\n",
    "        error = np.matmul(A[i], x_k1[i,:])-b[i]\n",
    "        loss[i, k] = np.matmul(np.transpose(error), error)\n",
    "        \n",
    "#    change mirror method     \n",
    "    for i in range(agent_num):\n",
    "        x_k[i,:] = np.exp(z_k1[i,:])/sum(np.exp(z_k1[i,:]))\n",
    "#     \n",
    "    \n",
    "    z_k = np.copy(z_k1)\n",
    "    y_k = np.copy(y_k1)\n",
    "\n",
    "#     z = np.mean(x_k, axis = 0)\n",
    "#     print(z[0])\n",
    "#     for i in range(agent_num):\n",
    "#     error = np.matmul(A_stack, z)-b_stack\n",
    "#     loss_z[k] = np.matmul(np.transpose(error), error)\n",
    "    x_record[k] = x_k[0,0]-x_direct[0]\n",
    "    for i in range(agent_num):\n",
    "        error = np.matmul(A_stack, x_k[i,:])-b_stack\n",
    "        loss_x_global[i,k] = np.matmul(np.transpose(error), error)\n",
    "\n",
    "    "
   ]
  },
  {
   "cell_type": "code",
   "execution_count": 81,
   "metadata": {},
   "outputs": [
    {
     "data": {
      "image/png": "[encoded data removed]",
      "text/plain": [
       "<Figure size 432x288 with 1 Axes>"
      ]
     },
     "metadata": {
      "needs_background": "light"
     },
     "output_type": "display_data"
    }
   ],
   "source": [
    "plt.plot(x_record)\n",
    "# plt.scatter(accu_x_record[1:])\n",
    "# plt.plot(gamma[1:20000])\n",
    "# y_range = 1e2\n",
    "# plt.ylim((-y_range,y_range))\n",
    "# print(accu_x_record[-1])\n",
    "plt.xlabel(\"x_tilde value\")\n",
    "plt.savefig(\"100k_simplex_x_tilde\")\n",
    "# print(gamma[100000])"
   ]
  },
  {
   "cell_type": "code",
   "execution_count": 49,
   "metadata": {},
   "outputs": [],
   "source": [
    "# plt.plot(x_record[1000000:])\n",
    "# plt.plot(gamma[1:20000])\n",
    "# plt.ylim((-5e10,5000000))\n",
    "# print(x_record[-1])\n",
    "# plt.xlabel(\"local x value\")\n",
    "\n",
    "# plt.savefig(\"non_accel_EXTRA x_record 5m_it over_k\")"
   ]
  },
  {
   "cell_type": "code",
   "execution_count": 80,
   "metadata": {},
   "outputs": [
    {
     "data": {
      "image/png": "[encoded data removed]",
      "text/plain": [
       "<Figure size 432x288 with 1 Axes>"
      ]
     },
     "metadata": {
      "needs_background": "light"
     },
     "output_type": "display_data"
    }
   ],
   "source": [
    "# loss_z_k2 = (loss_z-loss_star)*range(iter_num)*range(iter_num)\n",
    "# loss_z_k1 = (loss_z-loss_star)*range(iter_num)\n",
    "plt.plot(loss_x_global[0,:])\n",
    "# plt.ylim((-0.01,0.5))\n",
    "# print(loss_z_k2[1:].min())\n",
    "# print((loss_z*range(iter_num))[-1])\n",
    "# plt.xlabel(\"(loss-loss*)xk^2\")\n",
    "# plt.savefig(\"non_accel_EXTRA (loss-loss_star)k 5m_it over_k\")\n",
    "\n",
    "plt.savefig(\"100k_simplex_loss\")"
   ]
  },
  {
   "cell_type": "code",
   "execution_count": 79,
   "metadata": {},
   "outputs": [
    {
     "data": {
      "image/png": "[encoded data removed]",
      "text/plain": [
       "<Figure size 432x288 with 1 Axes>"
      ]
     },
     "metadata": {
      "needs_background": "light"
     },
     "output_type": "display_data"
    }
   ],
   "source": [
    "for i in range(10):\n",
    "    \n",
    "#     loss_x_k2 = (loss_x_global[i,:]-loss_star)*range(iter_num)*range(iter_num)\n",
    "    loss_x = (loss_x_global[i,:]-loss_star)\n",
    "#     loss_x_k2 = (loss_x_global[i,:])*range(iter_num)*range(iter_num)\n",
    "#     loss_x_k2 = (loss_x_global[i,:]-loss_star)*range(iter_num)\n",
    "    plt.plot(np.log(loss_x[1:]))\n",
    "# loss_x2_k2 = (loss[1,:]-loss_star)*range(iter_num)*range(iter_num)\n",
    "plt.savefig(\"100k_simplex_log(local_loss-loss_star)\")\n",
    "\n",
    "# plt.plot(loss_x2_k2[1:])\n",
    "# plt.ylim((0,1))\n",
    "# print(loss_x_k2[1:].min())\n",
    "# print(loss_z*range(30000)[-1])\n",
    "# plt.xlabel(\"(loss-loss*)xk^2\")\n"
   ]
  },
  {
   "cell_type": "code",
   "execution_count": 78,
   "metadata": {},
   "outputs": [],
   "source": [
    "np.save(\"simplex_100k_loss\", loss_x_global)\n",
    "np.save(\"simplex_100k_loss_star\", loss_star)\n",
    "np.save(\"simplex_100k_x_tilde\", x_record)\n",
    "# np.save(outfile, x)"
   ]
  },
  {
   "cell_type": "code",
   "execution_count": null,
   "metadata": {},
   "outputs": [],
   "source": []
  }
 ],
 "metadata": {
  "kernelspec": {
   "display_name": "Python 3",
   "language": "python",
   "name": "python3"
  },
  "language_info": {
   "codemirror_mode": {
    "name": "ipython",
    "version": 3
   },
   "file_extension": ".py",
   "mimetype": "text/x-python",
   "name": "python",
   "nbconvert_exporter": "python",
   "pygments_lexer": "ipython3",
   "version": "3.7.3"
  }
 },
 "nbformat": 4,
 "nbformat_minor": 4
}
